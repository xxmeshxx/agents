{
 "cells": [
  {
   "cell_type": "code",
   "execution_count": 3,
   "id": "e988b26c-3848-43f2-b333-dc062b3c2f2c",
   "metadata": {},
   "outputs": [],
   "source": [
    "from langchain.chat_models import init_chat_model\n",
    "from langgraph.prebuilt import create_react_agent\n",
    "from langchain_tavily import TavilySearch\n",
    "from langchain_openai import ChatOpenAI\n",
    "from pydantic import BaseModel\n",
    "import os"
   ]
  },
  {
   "cell_type": "code",
   "execution_count": 4,
   "id": "5da20a79-ecba-43c7-ad69-f2d9474af8e1",
   "metadata": {},
   "outputs": [],
   "source": [
    "#Loading the API Keys to be used\n",
    "os.environ[\"TAVILY_API_KEY\"] = ''\n",
    "os.environ['OPENAI_API_KEY'] = ''"
   ]
  },
  {
   "cell_type": "code",
   "execution_count": 5,
   "id": "26de390e-b8ea-41e8-b828-e9be8b3ca6e3",
   "metadata": {},
   "outputs": [],
   "source": [
    "#Select the model to use in this case gpt-4.1\n",
    "model = init_chat_model(\"openai:gpt-4.1\", temperature=0)"
   ]
  },
  {
   "cell_type": "code",
   "execution_count": 6,
   "id": "133ecf64-0c16-4f06-a35e-66a9e37b9a8e",
   "metadata": {},
   "outputs": [],
   "source": [
    "#Tavily will be our search tool\n",
    "tool = TavilySearch(\n",
    "    max_results=2,\n",
    "    topic=\"general\"\n",
    ")"
   ]
  },
  {
   "cell_type": "code",
   "execution_count": 7,
   "id": "e01b9761-b6a9-4947-b7e2-b200c5a32585",
   "metadata": {},
   "outputs": [],
   "source": [
    "#Output format we want to get from the model in this case will be a result in string format and price in float format\n",
    "class ResponseFormat(BaseModel):\n",
    "    \"\"\"Response format for the agent.\"\"\"\n",
    "    result: str\n",
    "    price: float"
   ]
  },
  {
   "cell_type": "code",
   "execution_count": 8,
   "id": "5d5e9f21-1dc3-4506-a4e9-7646d61ed4b6",
   "metadata": {},
   "outputs": [],
   "source": [
    "#Most simplest way to create an agent\n",
    "#Using the create_react_agent specifying the model to use, tools and the response format\n",
    "agent = create_react_agent(\n",
    "    model,\n",
    "    tools=[tool],\n",
    "    response_format=ResponseFormat,\n",
    ")"
   ]
  },
  {
   "cell_type": "code",
   "execution_count": 9,
   "id": "c5434b01-a149-4e27-a449-047fa86a3433",
   "metadata": {},
   "outputs": [
    {
     "data": {
      "image/png": "[encoded data removed]",
      "text/plain": [
       "<IPython.core.display.Image object>"
      ]
     },
     "metadata": {},
     "output_type": "display_data"
    }
   ],
   "source": [
    "from IPython.display import Image, display\n",
    "display(Image(agent.get_graph().draw_mermaid_png()))"
   ]
  },
  {
   "cell_type": "code",
   "execution_count": null,
   "id": "45273868-a3b9-4f41-b72f-77eb33124db8",
   "metadata": {},
   "outputs": [],
   "source": []
  },
  {
   "cell_type": "code",
   "execution_count": 10,
   "id": "d6d4e9ed-b552-4da9-81a5-57101e9e22f8",
   "metadata": {},
   "outputs": [],
   "source": [
    "response = agent.invoke({\"messages\": [{\"role\": \"user\", \"content\": \"What is the Bitcoin price at this moment?\"}]})"
   ]
  },
  {
   "cell_type": "code",
   "execution_count": 11,
   "id": "1e822798-6056-4589-815c-7119daa4cbba",
   "metadata": {},
   "outputs": [
    {
     "data": {
      "text/plain": [
       "{'messages': [HumanMessage(content='What is the Bitcoin price at this moment?', additional_kwargs={}, response_metadata={}, id='e87b4a5c-e43f-4dc3-94f4-bad2995bb62a'),\n",
       "  AIMessage(content='', additional_kwargs={'tool_calls': [{'id': 'call_05buyUiflEa2BXNkAoNHRkPU', 'function': {'arguments': '{\"query\":\"current Bitcoin price\",\"search_depth\":\"basic\"}', 'name': 'tavily_search'}, 'type': 'function'}], 'refusal': None}, response_metadata={'token_usage': {'completion_tokens': 23, 'prompt_tokens': 776, 'total_tokens': 799, 'completion_tokens_details': {'accepted_prediction_tokens': 0, 'audio_tokens': 0, 'reasoning_tokens': 0, 'rejected_prediction_tokens': 0}, 'prompt_tokens_details': {'audio_tokens': 0, 'cached_tokens': 0}}, 'model_name': 'gpt-4.1-2025-04-14', 'system_fingerprint': 'fp_51e1070cf2', 'id': 'chatcmpl-BomATij2cacoNRws4gn2ZcbA48zUt', 'service_tier': 'default', 'finish_reason': 'tool_calls', 'logprobs': None}, id='run--d4ee773f-60c5-4278-84a6-a67e935d91e2-0', tool_calls=[{'name': 'tavily_search', 'args': {'query': 'current Bitcoin price', 'search_depth': 'basic'}, 'id': 'call_05buyUiflEa2BXNkAoNHRkPU', 'type': 'tool_call'}], usage_metadata={'input_tokens': 776, 'output_tokens': 23, 'total_tokens': 799, 'input_token_details': {'audio': 0, 'cache_read': 0}, 'output_token_details': {'audio': 0, 'reasoning': 0}}),\n",
       "  ToolMessage(content='{\"query\": \"current Bitcoin price\", \"follow_up_questions\": null, \"answer\": null, \"images\": [], \"results\": [{\"title\": \"Bitcoin price today, BTC to USD live price, marketcap and chart ...\", \"url\": \"https://coinmarketcap.com/currencies/bitcoin/\", \"content\": \"The live Bitcoin price today is $106,539.31 USD with a 24-hour trading volume of $43,366,982,163.65 USD. We update our BTC to USD price in real-time.\", \"score\": 0.8808076, \"raw_content\": null}, {\"title\": \"Bitcoin (BTC) Price, Real-time Quote & News - Google Finance\", \"url\": \"https://www.google.com/finance/quote/BTC-usd\", \"content\": \"Get the latest Bitcoin (BTC / USD) real-time quote, historical performance, charts, and other cryptocurrency information to help you make more informed trading and investment decisions.\", \"score\": 0.4434805, \"raw_content\": null}], \"response_time\": 1.4}', name='tavily_search', id='a01e8ff1-5635-415e-b36f-9952a51c6661', tool_call_id='call_05buyUiflEa2BXNkAoNHRkPU'),\n",
       "  AIMessage(content='The current price of Bitcoin is approximately $106,539.31 USD. For real-time updates and more details, you can visit CoinMarketCap or Google Finance. Please note that cryptocurrency prices are highly volatile and can change rapidly.', additional_kwargs={'refusal': None}, response_metadata={'token_usage': {'completion_tokens': 47, 'prompt_tokens': 1034, 'total_tokens': 1081, 'completion_tokens_details': {'accepted_prediction_tokens': 0, 'audio_tokens': 0, 'reasoning_tokens': 0, 'rejected_prediction_tokens': 0}, 'prompt_tokens_details': {'audio_tokens': 0, 'cached_tokens': 0}}, 'model_name': 'gpt-4.1-2025-04-14', 'system_fingerprint': 'fp_51e1070cf2', 'id': 'chatcmpl-BomAX6cncIUnzMaVfvneY0Bd8RSsS', 'service_tier': 'default', 'finish_reason': 'stop', 'logprobs': None}, id='run--c0341d07-6912-4f1e-810a-92d236143df9-0', usage_metadata={'input_tokens': 1034, 'output_tokens': 47, 'total_tokens': 1081, 'input_token_details': {'audio': 0, 'cache_read': 0}, 'output_token_details': {'audio': 0, 'reasoning': 0}})],\n",
       " 'structured_response': ResponseFormat(result='The current price of Bitcoin is approximately $106,539.31 USD. Please note that cryptocurrency prices are highly volatile and can change rapidly.', price=106539.31)}"
      ]
     },
     "execution_count": 11,
     "metadata": {},
     "output_type": "execute_result"
    }
   ],
   "source": [
    "response"
   ]
  },
  {
   "cell_type": "code",
   "execution_count": 12,
   "id": "a9f68556-4c6a-4fcb-99e6-15665e4b38d4",
   "metadata": {},
   "outputs": [
    {
     "data": {
      "text/plain": [
       "ResponseFormat(result='The current price of Bitcoin is approximately $106,539.31 USD. Please note that cryptocurrency prices are highly volatile and can change rapidly.', price=106539.31)"
      ]
     },
     "execution_count": 12,
     "metadata": {},
     "output_type": "execute_result"
    }
   ],
   "source": [
    "response['structured_response']"
   ]
  },
  {
   "cell_type": "code",
   "execution_count": null,
   "id": "b7c7f2f5-44a2-4c62-b8d7-e684f25aae04",
   "metadata": {},
   "outputs": [],
   "source": []
  },
  {
   "cell_type": "code",
   "execution_count": null,
   "id": "03d19000-5beb-42e3-b80e-498d7393eb88",
   "metadata": {},
   "outputs": [],
   "source": []
  },
  {
   "cell_type": "code",
   "execution_count": null,
   "id": "1d3d1d0e-1eb2-41e0-a57e-2b2123b2b241",
   "metadata": {},
   "outputs": [],
   "source": []
  }
 ],
 "metadata": {
  "kernelspec": {
   "display_name": "Python 3 (ipykernel)",
   "language": "python",
   "name": "python3"
  },
  "language_info": {
   "codemirror_mode": {
    "name": "ipython",
    "version": 3
   },
   "file_extension": ".py",
   "mimetype": "text/x-python",
   "name": "python",
   "nbconvert_exporter": "python",
   "pygments_lexer": "ipython3",
   "version": "3.13.5"
  }
 },
 "nbformat": 4,
 "nbformat_minor": 5
}
